{
 "cells": [
  {
   "cell_type": "markdown",
   "metadata": {},
   "source": [
    "# Carter Minter\n",
    "## Week 5 - Feb 21 2021\n",
    "### Python Statements [if, else, elif]"
   ]
  },
  {
   "cell_type": "markdown",
   "metadata": {},
   "source": [
    "if condition1:\n",
    "    perform action1\n",
    "elif condition 2:\n",
    "    perform action2\n",
    "else:\n",
    "    perform action3"
   ]
  },
  {
   "cell_type": "code",
   "execution_count": 1,
   "metadata": {},
   "outputs": [
    {
     "name": "stdout",
     "output_type": "stream",
     "text": [
      "It was true\n"
     ]
    }
   ],
   "source": [
    " if True:\n",
    "        print ('It was true')"
   ]
  },
  {
   "cell_type": "code",
   "execution_count": 5,
   "metadata": {},
   "outputs": [
    {
     "name": "stdout",
     "output_type": "stream",
     "text": [
      "Hi Five\n"
     ]
    }
   ],
   "source": [
    "value = 5\n",
    "if value == 5:\n",
    "        print('Hi Five')\n",
    "else: \n",
    "    print (\"lets try again\")"
   ]
  },
  {
   "cell_type": "code",
   "execution_count": 6,
   "metadata": {},
   "outputs": [
    {
     "name": "stdout",
     "output_type": "stream",
     "text": [
      "lets try again\n"
     ]
    }
   ],
   "source": [
    "value = 6\n",
    "if value == 5:\n",
    "        print('Hi Five')\n",
    "else: \n",
    "    print (\"lets try again\")"
   ]
  },
  {
   "cell_type": "code",
   "execution_count": 7,
   "metadata": {},
   "outputs": [
    {
     "name": "stdout",
     "output_type": "stream",
     "text": [
      "You may redo test2\n"
     ]
    }
   ],
   "source": [
    "test1 = 99\n",
    "test2 = 87 \n",
    "\n",
    "if test2 < test1:\n",
    "    print('You may redo test2')"
   ]
  },
  {
   "cell_type": "code",
   "execution_count": 8,
   "metadata": {},
   "outputs": [
    {
     "name": "stdout",
     "output_type": "stream",
     "text": [
      "You may redo test2\n"
     ]
    }
   ],
   "source": [
    "test1 = 99\n",
    "test2 = 87 \n",
    "\n",
    "if test2 < test1:\n",
    "    print('You may redo test2')\n",
    "else:\n",
    "    print(\"Then, redo test1\")"
   ]
  },
  {
   "cell_type": "code",
   "execution_count": 9,
   "metadata": {},
   "outputs": [
    {
     "name": "stdout",
     "output_type": "stream",
     "text": [
      "Then, redo test1\n"
     ]
    }
   ],
   "source": [
    "test1 = 87\n",
    "test2 = 99 \n",
    "\n",
    "if test2 < test1:\n",
    "    print('You may redo test2')\n",
    "else:\n",
    "    print(\"Then, redo test1\")"
   ]
  },
  {
   "cell_type": "code",
   "execution_count": 10,
   "metadata": {},
   "outputs": [
    {
     "ename": "IndentationError",
     "evalue": "expected an indented block (<ipython-input-10-dd0ee65b3422>, line 2)",
     "output_type": "error",
     "traceback": [
      "\u001b[1;36m  File \u001b[1;32m\"<ipython-input-10-dd0ee65b3422>\"\u001b[1;36m, line \u001b[1;32m2\u001b[0m\n\u001b[1;33m    print('You may redo test2')\u001b[0m\n\u001b[1;37m        ^\u001b[0m\n\u001b[1;31mIndentationError\u001b[0m\u001b[1;31m:\u001b[0m expected an indented block\n"
     ]
    }
   ],
   "source": [
    "if test2 < test1:\n",
    "print('You may redo test2') "
   ]
  },
  {
   "cell_type": "code",
   "execution_count": 20,
   "metadata": {},
   "outputs": [
    {
     "name": "stdout",
     "output_type": "stream",
     "text": [
      "test2 is greater than test1\n",
      "you may think about redoing test1, instead\n"
     ]
    }
   ],
   "source": [
    "test1 = 89\n",
    "test2 = 79 \n",
    "\n",
    "if test1 > test2:\n",
    "    print('test1 is greater than test2')\n",
    "    print ('you may think to redo test1')\n",
    "elif test2 > test1:\n",
    "    print('test2 is greater than test1')\n",
    "    print('you may think about redoing test1, instead')\n",
    "else:\n",
    "    print('test1 and test2 scores are equal')"
   ]
  },
  {
   "cell_type": "code",
   "execution_count": 29,
   "metadata": {},
   "outputs": [
    {
     "name": "stdout",
     "output_type": "stream",
     "text": [
      "test1 is greater than test2\n"
     ]
    }
   ],
   "source": [
    "test1 = 89\n",
    "test2 = 79 \n",
    "\n",
    "#shorthand \n",
    "if test1 > test2:print('test1 is greater than test2')"
   ]
  },
  {
   "cell_type": "code",
   "execution_count": 30,
   "metadata": {},
   "outputs": [
    {
     "name": "stdout",
     "output_type": "stream",
     "text": [
      "test1\n"
     ]
    }
   ],
   "source": [
    "#shorthand  if... else \n",
    "print('test1') if test1 > test2 else print('test2')"
   ]
  },
  {
   "cell_type": "code",
   "execution_count": 32,
   "metadata": {},
   "outputs": [
    {
     "name": "stdout",
     "output_type": "stream",
     "text": [
      "Welcome to Colorado!\n"
     ]
    }
   ],
   "source": [
    "s = \"Colorado\"\n",
    "if s == \"Colorado\":\n",
    "    print(\"Welcome to Colorado!\")\n",
    "elif s == \"Virginia\":\n",
    "    print(\"Welcome to Virginia!\")\n",
    "elif s == \"Utah\":\n",
    "    print(\"Welcome to Utah\")\n",
    "else:\n",
    "    print(\"Where are you from?\")"
   ]
  },
  {
   "cell_type": "code",
   "execution_count": 34,
   "metadata": {},
   "outputs": [
    {
     "name": "stdout",
     "output_type": "stream",
     "text": [
      "Both conditions are satisfied and True\n"
     ]
    }
   ],
   "source": [
    "#And\n",
    "s1 = 99\n",
    "s2 = 85\n",
    "s3 = 96\n",
    "\n",
    "if s1 > s2 and s3 > s2:\n",
    "    print(\"Both conditions are satisfied and True\")"
   ]
  },
  {
   "cell_type": "code",
   "execution_count": 35,
   "metadata": {},
   "outputs": [],
   "source": [
    "s1 = 99\n",
    "s2 = 85\n",
    "s3 = 66\n",
    "\n",
    "if s1 > s2 and s3 > s2:\n",
    "    print(\"Both conditions are satisfied and True\")"
   ]
  },
  {
   "cell_type": "code",
   "execution_count": 36,
   "metadata": {},
   "outputs": [],
   "source": [
    "# or logical operators \n",
    "# only needs one to be true\n",
    "# and needs both to be true or false "
   ]
  },
  {
   "cell_type": "code",
   "execution_count": 37,
   "metadata": {},
   "outputs": [
    {
     "name": "stdout",
     "output_type": "stream",
     "text": [
      "At least one condition is True\n"
     ]
    }
   ],
   "source": [
    "s1 = 99\n",
    "s2 = 85\n",
    "s3 = 66\n",
    "\n",
    "if s1 > s2 or s3 < s2:\n",
    "    print(\"At least one condition is True\")"
   ]
  },
  {
   "cell_type": "code",
   "execution_count": 38,
   "metadata": {},
   "outputs": [],
   "source": [
    "s1 = 99\n",
    "s2 = 99\n",
    "s3 = 99\n",
    "\n",
    "if s1 > s2 or s3 < s2:\n",
    "    print(\"At least one condition is True\")"
   ]
  },
  {
   "cell_type": "code",
   "execution_count": 39,
   "metadata": {},
   "outputs": [
    {
     "name": "stdout",
     "output_type": "stream",
     "text": [
      "Above 14,\n",
      "but not above 20\n"
     ]
    }
   ],
   "source": [
    "#Nested if statement \n",
    "\n",
    "s1 = 19\n",
    "\n",
    "if s1 > 14:\n",
    "    print (\"Above 14,\")\n",
    "    if s1 > 20:\n",
    "        print ('and also above 20')\n",
    "    else:\n",
    "        print('but not above 20')"
   ]
  },
  {
   "cell_type": "code",
   "execution_count": 40,
   "metadata": {},
   "outputs": [
    {
     "name": "stdout",
     "output_type": "stream",
     "text": [
      "Above 40,\n",
      "but not above 80\n"
     ]
    }
   ],
   "source": [
    "s1 = 79\n",
    "\n",
    "if s1 > 40:\n",
    "    print (\"Above 40,\")\n",
    "    if s1 > 80:\n",
    "        print ('and also above 80')\n",
    "    else:\n",
    "        print('but not above 80')"
   ]
  },
  {
   "cell_type": "code",
   "execution_count": 41,
   "metadata": {},
   "outputs": [],
   "source": [
    "if s1 > 60:\n",
    "    pass"
   ]
  },
  {
   "cell_type": "code",
   "execution_count": null,
   "metadata": {},
   "outputs": [],
   "source": []
  }
 ],
 "metadata": {
  "kernelspec": {
   "display_name": "Python 3.7 - default",
   "language": "python",
   "name": "py37_default"
  },
  "language_info": {
   "codemirror_mode": {
    "name": "ipython",
    "version": 3
   },
   "file_extension": ".py",
   "mimetype": "text/x-python",
   "name": "python",
   "nbconvert_exporter": "python",
   "pygments_lexer": "ipython3",
   "version": "3.7.7"
  }
 },
 "nbformat": 4,
 "nbformat_minor": 4
}
